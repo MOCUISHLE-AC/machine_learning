{
 "cells": [
  {
   "cell_type": "markdown",
   "id": "425f50b6",
   "metadata": {},
   "source": [
    "## 截止日期：11月18日\n",
    "作业的提交格式参考之前的说明，提交到2120220594@nankai.edu.cn\n",
    "\n",
    "## 基本要求\n",
    "a) 采用分层采样的方式将数据集划分为训练集和测试集。 b) 给定编写一个朴素贝叶斯分类器，对测试集进行预测，计算分类准确率。\n",
    "\n",
    "## 中级要求\n",
    "使用测试集评估模型，得到混淆矩阵，精度，召回率，F值。\n",
    "\n",
    "## 高级要求\n",
    "在中级要求的基础上画出三类数据的ROC曲线，并求出AUC值。"
   ]
  },
  {
   "cell_type": "code",
   "execution_count": 133,
   "id": "898da2bf",
   "metadata": {},
   "outputs": [
    {
     "name": "stdout",
     "output_type": "stream",
     "text": [
      "test_len: [6, 7, 5]\n",
      "data_num: 178\n",
      "分层抽样\n",
      "Row_data:\t59\t71\t48\n",
      "Test_data:\t6\t7\t5\n",
      "Train_data:\t53\t64\t43\n"
     ]
    }
   ],
   "source": [
    "# -*- coding: UTF-8 -*-\n",
    "import math\n",
    "import numpy as np  \n",
    "import pandas as pd\n",
    "\n",
    "f = open('wine.data','r')\n",
    "types = [[],[],[]]                      #按类分的所有数据\n",
    "test_data = [[],[],[]]\n",
    "train_data = [[],[],[]]\n",
    "data_num = 0                            #数据总数\n",
    "test_len = []                           #测试集里每一类的个数\n",
    "means = [[],[],[]]                      #每一类的均值\n",
    "std = [[],[],[]]                        #每一类的标准差\n",
    "myline = '1'\n",
    "while myline:\n",
    "    myline = f.readline().split(',')\n",
    "    if len(myline) != 14:\n",
    "        break\n",
    "    for t in range(len(myline)):\n",
    "        if t == 0:\n",
    "            myline[t] = int(myline[t])\n",
    "        else:\n",
    "            myline[t] = float(myline[t])\n",
    "    #删除列表中第一个元素\n",
    "    temp = myline.pop(0)\n",
    "    types[temp - 1].append(myline)\n",
    "test_len = [round(len(types[i]) / 10) for i in range(3)]\n",
    "data_num = sum([len(types[i]) for i in range(3)])\n",
    "print(\"test_len:\",test_len)\n",
    "print(\"data_num:\",data_num)\n",
    "\n",
    "#即test_data的数量为原始数据集的十分之一 \n",
    "# Todo： 分层抽样\n",
    "import random\n",
    "random.seed(25)\n",
    "for i in range(3):\n",
    "    test_data[i] = random.sample(types[i],test_len[i])\n",
    "    train_data[i] = [x for x in types[i] if x not in test_data[i]]\n",
    "print(\"分层抽样\")\n",
    "print(f\"Row_data:\\t{len(types[0])}\\t{len(types[1])}\\t{len(types[2])}\")\n",
    "print(f\"Test_data:\\t{len(test_data[0])}\\t{len(test_data[1])}\\t{len(test_data[2])}\")\n",
    "print(f\"Train_data:\\t{len(train_data[0])}\\t{len(train_data[1])}\\t{len(train_data[2])}\")"
   ]
  },
  {
   "cell_type": "code",
   "execution_count": 134,
   "id": "bbfea2fd",
   "metadata": {},
   "outputs": [
    {
     "name": "stdout",
     "output_type": "stream",
     "text": [
      "mean:\t(13,) \t std(13, 13)\n"
     ]
    }
   ],
   "source": [
    "# 极大似然估计\n",
    "# 输入n*2维数据\n",
    "def LikelyHood(X):\n",
    "    mu = np.mean(X, axis=0)\n",
    "    # python把向量转化成矩阵需要用reshape\n",
    "    cov = np.array([np.dot((X[i] - mu).reshape(len(X[i]),1), (X[i] - mu).reshape(1, len(X[i]))) for i in range(len(X))]).mean(axis=0)\n",
    "    return mu, cov\n",
    "\n",
    "# 在公式中，x和mean应该是列向量，但是为了方便，这里接收的都是行向量（维度：1*2）\n",
    "def Gaussian_function(x, mu, cov):\n",
    "    det_cov = np.linalg.det(cov)  # 计算方差矩阵的行列式\n",
    "    inv_cov = np.linalg.pinv(cov)  # 计算方差矩阵的逆\n",
    "    # 计算概率p(x|w)\n",
    "    p = 1 / (2 * np.pi * np.sqrt(det_cov)) * np.exp(-0.5 * np.dot(np.dot((x - mu), inv_cov), (x - mu).T))\n",
    "    return p\n",
    "\n",
    "#分别计算训练集上三个类的均值和标准差\n",
    "means=[]\n",
    "stds=[]\n",
    "mean,std=LikelyHood(train_data[0])\n",
    "print(f\"mean:\\t{mean.shape} \\t std{std.shape}\")\n",
    "means.append(mean)\n",
    "stds.append(std)\n",
    "mean,std=LikelyHood(train_data[1])\n",
    "means.append(mean)\n",
    "stds.append(std)\n",
    "mean,std=LikelyHood(train_data[2])\n",
    "means.append(mean)\n",
    "stds.append(std)\n",
    "#means stds"
   ]
  },
  {
   "cell_type": "code",
   "execution_count": 135,
   "id": "bf8b2b2e",
   "metadata": {},
   "outputs": [
    {
     "name": "stdout",
     "output_type": "stream",
     "text": [
      "0 0\n",
      "0 0\n",
      "0 0\n",
      "0 0\n",
      "0 0\n",
      "0 0\n",
      "1 1\n",
      "1 1\n",
      "1 1\n",
      "1 1\n",
      "1 1\n",
      "1 1\n",
      "1 1\n",
      "1 2\n",
      "2 2\n",
      "2 2\n",
      "2 2\n",
      "2 2\n"
     ]
    },
    {
     "data": {
      "text/plain": [
       "1"
      ]
     },
     "execution_count": 135,
     "metadata": {},
     "output_type": "execute_result"
    }
   ],
   "source": [
    "def bayes_classificate():\n",
    "    # 首先，分别计算训练集上三个类的均值和标准差\n",
    "    # mean = 上述\n",
    "    # std = 上述\n",
    "    wrong_num = 0\n",
    "    for i in range(3):\n",
    "        for t in test_data[i]:                  #两层循环：从每一类取每一个测试样本\n",
    "            my_type = []\n",
    "            for j in range(3):\n",
    "                #由于数据集中所有的属性都是连续值，连续值的似然估计可以按照高斯分布来计算：\n",
    "                # temp = gaussian_function\n",
    "                temp= Gaussian_function(t,means[j],stds[j])\n",
    "                my_type.append(temp)                        #这里将所有score保存\n",
    "            pre_type = my_type.index(max(my_type))          #取分值最大的为预测类别\n",
    "            print(pre_type,i)\n",
    "            if pre_type != i:                               #统计错误数\n",
    "                wrong_num+=1\n",
    "    return wrong_num\n",
    "bayes_classificate()"
   ]
  },
  {
   "cell_type": "code",
   "execution_count": 145,
   "id": "fb1a7726",
   "metadata": {},
   "outputs": [
    {
     "name": "stdout",
     "output_type": "stream",
     "text": [
      "混淆矩阵\n",
      "Type 0 的混淆矩阵：\n",
      "[[ 6.  0.]\n",
      " [ 0. 12.]]\n",
      "Type 1 的混淆矩阵：\n",
      "[[ 7.  1.]\n",
      " [ 0. 10.]]\n",
      "Type 2 的混淆矩阵：\n",
      "[[ 4.  0.]\n",
      " [ 1. 13.]]\n"
     ]
    }
   ],
   "source": [
    "def Confusion_Matrix(index):\n",
    "    #输出testdata[index]的混淆矩阵\n",
    "    matrix= np.zeros((2,2))\n",
    "    matrix=matrix.tolist()\n",
    "    for i in range(3):\n",
    "        for t in test_data[i]:                  #两层循环：从每一类取每一个测试样本\n",
    "            my_type = []\n",
    "            for j in range(3):\n",
    "                #由于数据集中所有的属性都是连续值，连续值的似然估计可以按照高斯分布来计算：\n",
    "                # temp = gaussian_function\n",
    "                temp= Gaussian_function(t,means[j],stds[j])\n",
    "                my_type.append(temp)                        #这里将所有score保存\n",
    "            pre_type = my_type.index(max(my_type))          #取分值最大的为预测类别\n",
    "            if pre_type != i:                               #统计错误数\n",
    "                if index==i:\n",
    "                    matrix[1][0]=matrix[1][0]+1 #false nagetive\n",
    "                elif index!=i and pre_type== index: \n",
    "                    matrix[0][1]=matrix[0][1]+1# false positive\n",
    "            else:\n",
    "                if index==i:\n",
    "                    matrix[0][0]=matrix[0][0]+1# right positive\n",
    "    matrix[1][1]=test_len[0]+test_len[1]+test_len[2]-matrix[0][0]-matrix[0][1]-matrix[1][0]; #right negative\n",
    "    return matrix\n",
    "print(\"混淆矩阵\")\n",
    "for i in range(len(test_len)):\n",
    "    print(\"Type %d 的混淆矩阵：\"%i)\n",
    "    print(Confusion_Matrix(i))"
   ]
  },
  {
   "cell_type": "code",
   "execution_count": 148,
   "id": "bcde3119",
   "metadata": {},
   "outputs": [
    {
     "name": "stdout",
     "output_type": "stream",
     "text": [
      "Type 0 的混淆矩阵：\n",
      "[[ 6.  0.]\n",
      " [ 0. 12.]]\n",
      "Type:0\t precision:1.0\t recall:1.0\t accuracy:1.0\t F:1.0\n",
      "\n",
      "Type 1 的混淆矩阵：\n",
      "[[ 7.  1.]\n",
      " [ 0. 10.]]\n",
      "Type:1\t precision:0.875\t recall:1.0\t accuracy:0.9444444444444444\t F:0.9333333333333333\n",
      "\n",
      "Type 2 的混淆矩阵：\n",
      "[[ 4.  0.]\n",
      " [ 1. 13.]]\n",
      "Type:2\t precision:1.0\t recall:0.8\t accuracy:0.9444444444444444\t F:0.8888888888888888\n",
      "\n"
     ]
    }
   ],
   "source": [
    "def precision(matrix):\n",
    "    return matrix[0][0]/(matrix[0][0]+matrix[0][1])\n",
    "def recall(matrix):\n",
    "    return matrix[0][0]/(matrix[0][0]+matrix[1][0])\n",
    "def accuracy(matrix):\n",
    "    return (matrix[0][0]+matrix[1][1])/(test_len[0]+test_len[1]+test_len[2])\n",
    "def F_value(matrix):\n",
    "    return 2/(1/precision(matrix)+1/recall(matrix))\n",
    "for i in range(len(test_len)):\n",
    "    print(\"Type %d 的混淆矩阵：\"%i)\n",
    "    matrix=Confusion_Matrix(i)\n",
    "    print(matrix)\n",
    "    print(f\"Type:{i}\\t precision:{precision(matrix)}\\t recall:{recall(matrix)}\\t accuracy:{accuracy(matrix)}\\t F:{F_value(matrix)}\\n\")"
   ]
  },
  {
   "cell_type": "code",
   "execution_count": 149,
   "id": "a9bda1d4",
   "metadata": {},
   "outputs": [
    {
     "ename": "NameError",
     "evalue": "name 'plt' is not defined",
     "output_type": "error",
     "traceback": [
      "\u001b[1;31m---------------------------------------------------------------------------\u001b[0m",
      "\u001b[1;31mNameError\u001b[0m                                 Traceback (most recent call last)",
      "Input \u001b[1;32mIn [149]\u001b[0m, in \u001b[0;36m<cell line: 14>\u001b[1;34m()\u001b[0m\n\u001b[0;32m     12\u001b[0m get_ipython()\u001b[38;5;241m.\u001b[39mrun_line_magic(\u001b[38;5;124m'\u001b[39m\u001b[38;5;124mconfig\u001b[39m\u001b[38;5;124m'\u001b[39m, \u001b[38;5;124m\"\u001b[39m\u001b[38;5;124mInlineBackend.figure_format = \u001b[39m\u001b[38;5;124m'\u001b[39m\u001b[38;5;124msvg\u001b[39m\u001b[38;5;124m'\u001b[39m\u001b[38;5;124m\"\u001b[39m)\n\u001b[0;32m     13\u001b[0m \u001b[38;5;66;03m#设置画布大小像素点\u001b[39;00m\n\u001b[1;32m---> 14\u001b[0m \u001b[43mplt\u001b[49m\u001b[38;5;241m.\u001b[39mfigure(figsize\u001b[38;5;241m=\u001b[39m(\u001b[38;5;241m5\u001b[39m,\u001b[38;5;241m3\u001b[39m),dpi\u001b[38;5;241m=\u001b[39m\u001b[38;5;241m100\u001b[39m)\n\u001b[0;32m     15\u001b[0m plt\u001b[38;5;241m.\u001b[39mrc(\u001b[38;5;124m'\u001b[39m\u001b[38;5;124mfont\u001b[39m\u001b[38;5;124m'\u001b[39m, family\u001b[38;5;241m=\u001b[39m\u001b[38;5;124m'\u001b[39m\u001b[38;5;124mSimHei\u001b[39m\u001b[38;5;124m'\u001b[39m, size\u001b[38;5;241m=\u001b[39m\u001b[38;5;241m10\u001b[39m)\n\u001b[0;32m     16\u001b[0m plt\u001b[38;5;241m.\u001b[39mplot(h_test,score,marker\u001b[38;5;241m=\u001b[39m\u001b[38;5;124m'\u001b[39m\u001b[38;5;124mo\u001b[39m\u001b[38;5;124m'\u001b[39m,markersize\u001b[38;5;241m=\u001b[39m\u001b[38;5;241m4\u001b[39m)\n",
      "\u001b[1;31mNameError\u001b[0m: name 'plt' is not defined"
     ]
    }
   ],
   "source": [
    "FPRs=[]\n",
    "TPRs=[]\n",
    "for i in range(len(test_len)):\n",
    "    matrix=Confusion_Matrix(i)\n",
    "    FPR=matrix[0][1]/(matrix[0][1]+matrix[1][1])\n",
    "    TPR=matrix[0][0]/(matrix[0][0]+matrix[1][0])\n",
    "    matrix=Confusion_Matrix(i)\n",
    "    FPRs.append(FPR)\n",
    "    TPRs.append(TPR)\n",
    "%matplotlib inline\n",
    "#让图像清晰\n",
    "%config InlineBackend.figure_format = 'svg'\n",
    "#设置画布大小像素点\n",
    "plt.figure(figsize=(5,3),dpi=100)\n",
    "plt.rc('font', family='SimHei', size=10)\n",
    "plt.plot(h_test,score,marker='o',markersize=4)\n",
    "plt.xlabel('FPR')\n",
    "plt.ylabel('TPR')\n",
    "plt.title('ROC')\n",
    "plt.show() "
   ]
  },
  {
   "cell_type": "code",
   "execution_count": null,
   "id": "57abef14",
   "metadata": {},
   "outputs": [],
   "source": []
  }
 ],
 "metadata": {
  "kernelspec": {
   "display_name": "Python 3 (ipykernel)",
   "language": "python",
   "name": "python3"
  },
  "language_info": {
   "codemirror_mode": {
    "name": "ipython",
    "version": 3
   },
   "file_extension": ".py",
   "mimetype": "text/x-python",
   "name": "python",
   "nbconvert_exporter": "python",
   "pygments_lexer": "ipython3",
   "version": "3.8.10"
  }
 },
 "nbformat": 4,
 "nbformat_minor": 5
}
