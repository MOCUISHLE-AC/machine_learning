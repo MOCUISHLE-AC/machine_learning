{
 "cells": [
  {
   "cell_type": "markdown",
   "id": "27411f98",
   "metadata": {},
   "source": [
    "# 实验二：回归模型\n",
    "\n",
    "**学号：2013551**\n",
    "\n",
    "**姓名：雷贺奥**\n",
    "\n",
    "**专业：计算机科学与技术**"
   ]
  },
  {
   "cell_type": "markdown",
   "id": "b02873f0",
   "metadata": {},
   "source": [
    "回归是监督学习的一个重要问题，回归用于预测输入变量和输出变量之间的关系，特别是当输入变量的值发生变化时，输出变量的值也随之发生变化。\n",
    "\n",
    "回归模型是一种表示从输入变量到输出变量之间映射的函数\n",
    "\n",
    "对连续值的预测\n",
    "\n",
    "可以用合适的曲线揭示样本点随着自变量的变化关系"
   ]
  },
  {
   "cell_type": "markdown",
   "id": "8bd6d068",
   "metadata": {},
   "source": [
    "## 基本要求"
   ]
  },
  {
   "cell_type": "markdown",
   "id": "99cc54d3",
   "metadata": {},
   "source": [
    "将数据集winequality-white.csv按照4:1划分为训练集和测试集。\n",
    "\n",
    "构造线性回归模型，并采用批量梯度下降和随机梯度下降进行优化；输出训练集和测试集的均方误差（MSE），画出MSE收敛曲线。\n",
    "对于批量梯度下降和随机梯度下降，采用不同的学习率并进行MSE曲线展示，分析选择最佳的学习率。\n",
    "特别需要注意：\n",
    "\n",
    "划分数据集时尽可能保持数据分布的一致性，保持样本类别比例相似，可采用分层采样的方式。\n",
    "需要对数据集进行一定的预处理"
   ]
  },
  {
   "cell_type": "markdown",
   "id": "babbf21c",
   "metadata": {},
   "source": [
    "## 中级要求\n",
    "探究回归模型在机器学习和统计学上的差异"
   ]
  },
  {
   "cell_type": "markdown",
   "id": "af20b1a8",
   "metadata": {},
   "source": [
    "## 高级要求\n",
    "\n",
    "编程实现岭回归算法，求解训练样本的岭回归模型，平均训练误差和平均测试误差（解析法、批量梯度下降法和随机梯度下降法均可）。"
   ]
  },
  {
   "cell_type": "markdown",
   "id": "98ab406f",
   "metadata": {},
   "source": [
    "# 导入数据"
   ]
  },
  {
   "cell_type": "code",
   "execution_count": 1,
   "id": "11dcfb4d",
   "metadata": {},
   "outputs": [
    {
     "data": {
      "text/html": [
       "<div>\n",
       "<style scoped>\n",
       "    .dataframe tbody tr th:only-of-type {\n",
       "        vertical-align: middle;\n",
       "    }\n",
       "\n",
       "    .dataframe tbody tr th {\n",
       "        vertical-align: top;\n",
       "    }\n",
       "\n",
       "    .dataframe thead th {\n",
       "        text-align: right;\n",
       "    }\n",
       "</style>\n",
       "<table border=\"1\" class=\"dataframe\">\n",
       "  <thead>\n",
       "    <tr style=\"text-align: right;\">\n",
       "      <th></th>\n",
       "      <th>fixed acidity</th>\n",
       "      <th>volatile acidity</th>\n",
       "      <th>citric acid</th>\n",
       "      <th>residual sugar</th>\n",
       "      <th>chlorides</th>\n",
       "      <th>free sulfur dioxide</th>\n",
       "      <th>total sulfur dioxide</th>\n",
       "      <th>density</th>\n",
       "      <th>pH</th>\n",
       "      <th>sulphates</th>\n",
       "      <th>alcohol</th>\n",
       "      <th>quality</th>\n",
       "    </tr>\n",
       "  </thead>\n",
       "  <tbody>\n",
       "    <tr>\n",
       "      <th>0</th>\n",
       "      <td>7.0</td>\n",
       "      <td>0.27</td>\n",
       "      <td>0.36</td>\n",
       "      <td>20.7</td>\n",
       "      <td>0.045</td>\n",
       "      <td>45.0</td>\n",
       "      <td>170.0</td>\n",
       "      <td>1.00100</td>\n",
       "      <td>3.00</td>\n",
       "      <td>0.45</td>\n",
       "      <td>8.8</td>\n",
       "      <td>6</td>\n",
       "    </tr>\n",
       "    <tr>\n",
       "      <th>1</th>\n",
       "      <td>6.3</td>\n",
       "      <td>0.30</td>\n",
       "      <td>0.34</td>\n",
       "      <td>1.6</td>\n",
       "      <td>0.049</td>\n",
       "      <td>14.0</td>\n",
       "      <td>132.0</td>\n",
       "      <td>0.99400</td>\n",
       "      <td>3.30</td>\n",
       "      <td>0.49</td>\n",
       "      <td>9.5</td>\n",
       "      <td>6</td>\n",
       "    </tr>\n",
       "    <tr>\n",
       "      <th>2</th>\n",
       "      <td>8.1</td>\n",
       "      <td>0.28</td>\n",
       "      <td>0.40</td>\n",
       "      <td>6.9</td>\n",
       "      <td>0.050</td>\n",
       "      <td>30.0</td>\n",
       "      <td>97.0</td>\n",
       "      <td>0.99510</td>\n",
       "      <td>3.26</td>\n",
       "      <td>0.44</td>\n",
       "      <td>10.1</td>\n",
       "      <td>6</td>\n",
       "    </tr>\n",
       "    <tr>\n",
       "      <th>3</th>\n",
       "      <td>7.2</td>\n",
       "      <td>0.23</td>\n",
       "      <td>0.32</td>\n",
       "      <td>8.5</td>\n",
       "      <td>0.058</td>\n",
       "      <td>47.0</td>\n",
       "      <td>186.0</td>\n",
       "      <td>0.99560</td>\n",
       "      <td>3.19</td>\n",
       "      <td>0.40</td>\n",
       "      <td>9.9</td>\n",
       "      <td>6</td>\n",
       "    </tr>\n",
       "    <tr>\n",
       "      <th>4</th>\n",
       "      <td>7.2</td>\n",
       "      <td>0.23</td>\n",
       "      <td>0.32</td>\n",
       "      <td>8.5</td>\n",
       "      <td>0.058</td>\n",
       "      <td>47.0</td>\n",
       "      <td>186.0</td>\n",
       "      <td>0.99560</td>\n",
       "      <td>3.19</td>\n",
       "      <td>0.40</td>\n",
       "      <td>9.9</td>\n",
       "      <td>6</td>\n",
       "    </tr>\n",
       "    <tr>\n",
       "      <th>...</th>\n",
       "      <td>...</td>\n",
       "      <td>...</td>\n",
       "      <td>...</td>\n",
       "      <td>...</td>\n",
       "      <td>...</td>\n",
       "      <td>...</td>\n",
       "      <td>...</td>\n",
       "      <td>...</td>\n",
       "      <td>...</td>\n",
       "      <td>...</td>\n",
       "      <td>...</td>\n",
       "      <td>...</td>\n",
       "    </tr>\n",
       "    <tr>\n",
       "      <th>4893</th>\n",
       "      <td>6.2</td>\n",
       "      <td>0.21</td>\n",
       "      <td>0.29</td>\n",
       "      <td>1.6</td>\n",
       "      <td>0.039</td>\n",
       "      <td>24.0</td>\n",
       "      <td>92.0</td>\n",
       "      <td>0.99114</td>\n",
       "      <td>3.27</td>\n",
       "      <td>0.50</td>\n",
       "      <td>11.2</td>\n",
       "      <td>6</td>\n",
       "    </tr>\n",
       "    <tr>\n",
       "      <th>4894</th>\n",
       "      <td>6.6</td>\n",
       "      <td>0.32</td>\n",
       "      <td>0.36</td>\n",
       "      <td>8.0</td>\n",
       "      <td>0.047</td>\n",
       "      <td>57.0</td>\n",
       "      <td>168.0</td>\n",
       "      <td>0.99490</td>\n",
       "      <td>3.15</td>\n",
       "      <td>0.46</td>\n",
       "      <td>9.6</td>\n",
       "      <td>5</td>\n",
       "    </tr>\n",
       "    <tr>\n",
       "      <th>4895</th>\n",
       "      <td>6.5</td>\n",
       "      <td>0.24</td>\n",
       "      <td>0.19</td>\n",
       "      <td>1.2</td>\n",
       "      <td>0.041</td>\n",
       "      <td>30.0</td>\n",
       "      <td>111.0</td>\n",
       "      <td>0.99254</td>\n",
       "      <td>2.99</td>\n",
       "      <td>0.46</td>\n",
       "      <td>9.4</td>\n",
       "      <td>6</td>\n",
       "    </tr>\n",
       "    <tr>\n",
       "      <th>4896</th>\n",
       "      <td>5.5</td>\n",
       "      <td>0.29</td>\n",
       "      <td>0.30</td>\n",
       "      <td>1.1</td>\n",
       "      <td>0.022</td>\n",
       "      <td>20.0</td>\n",
       "      <td>110.0</td>\n",
       "      <td>0.98869</td>\n",
       "      <td>3.34</td>\n",
       "      <td>0.38</td>\n",
       "      <td>12.8</td>\n",
       "      <td>7</td>\n",
       "    </tr>\n",
       "    <tr>\n",
       "      <th>4897</th>\n",
       "      <td>6.0</td>\n",
       "      <td>0.21</td>\n",
       "      <td>0.38</td>\n",
       "      <td>0.8</td>\n",
       "      <td>0.020</td>\n",
       "      <td>22.0</td>\n",
       "      <td>98.0</td>\n",
       "      <td>0.98941</td>\n",
       "      <td>3.26</td>\n",
       "      <td>0.32</td>\n",
       "      <td>11.8</td>\n",
       "      <td>6</td>\n",
       "    </tr>\n",
       "  </tbody>\n",
       "</table>\n",
       "<p>4898 rows × 12 columns</p>\n",
       "</div>"
      ],
      "text/plain": [
       "      fixed acidity  volatile acidity  citric acid  residual sugar  chlorides  \\\n",
       "0               7.0              0.27         0.36            20.7      0.045   \n",
       "1               6.3              0.30         0.34             1.6      0.049   \n",
       "2               8.1              0.28         0.40             6.9      0.050   \n",
       "3               7.2              0.23         0.32             8.5      0.058   \n",
       "4               7.2              0.23         0.32             8.5      0.058   \n",
       "...             ...               ...          ...             ...        ...   \n",
       "4893            6.2              0.21         0.29             1.6      0.039   \n",
       "4894            6.6              0.32         0.36             8.0      0.047   \n",
       "4895            6.5              0.24         0.19             1.2      0.041   \n",
       "4896            5.5              0.29         0.30             1.1      0.022   \n",
       "4897            6.0              0.21         0.38             0.8      0.020   \n",
       "\n",
       "      free sulfur dioxide  total sulfur dioxide  density    pH  sulphates  \\\n",
       "0                    45.0                 170.0  1.00100  3.00       0.45   \n",
       "1                    14.0                 132.0  0.99400  3.30       0.49   \n",
       "2                    30.0                  97.0  0.99510  3.26       0.44   \n",
       "3                    47.0                 186.0  0.99560  3.19       0.40   \n",
       "4                    47.0                 186.0  0.99560  3.19       0.40   \n",
       "...                   ...                   ...      ...   ...        ...   \n",
       "4893                 24.0                  92.0  0.99114  3.27       0.50   \n",
       "4894                 57.0                 168.0  0.99490  3.15       0.46   \n",
       "4895                 30.0                 111.0  0.99254  2.99       0.46   \n",
       "4896                 20.0                 110.0  0.98869  3.34       0.38   \n",
       "4897                 22.0                  98.0  0.98941  3.26       0.32   \n",
       "\n",
       "      alcohol  quality  \n",
       "0         8.8        6  \n",
       "1         9.5        6  \n",
       "2        10.1        6  \n",
       "3         9.9        6  \n",
       "4         9.9        6  \n",
       "...       ...      ...  \n",
       "4893     11.2        6  \n",
       "4894      9.6        5  \n",
       "4895      9.4        6  \n",
       "4896     12.8        7  \n",
       "4897     11.8        6  \n",
       "\n",
       "[4898 rows x 12 columns]"
      ]
     },
     "execution_count": 1,
     "metadata": {},
     "output_type": "execute_result"
    }
   ],
   "source": [
    "#导入数据\n",
    "import pandas as pd\n",
    "import numpy as np\n",
    "data = pd.read_csv(\"winequality-white.csv\")\n",
    "data"
   ]
  },
  {
   "cell_type": "markdown",
   "id": "61f4e1c5",
   "metadata": {},
   "source": [
    "# 数据预处理"
   ]
  },
  {
   "cell_type": "code",
   "execution_count": 2,
   "id": "7ce3ad49",
   "metadata": {},
   "outputs": [
    {
     "name": "stdout",
     "output_type": "stream",
     "text": [
      "前0-10列为特征,X: (4898, 11)\n",
      "最后一列为标签,Y: (4898,)\n"
     ]
    },
    {
     "data": {
      "image/png": "[encoded data removed]",
      "text/plain": [
       "<Figure size 432x288 with 1 Axes>"
      ]
     },
     "metadata": {
      "needs_background": "light"
     },
     "output_type": "display_data"
    }
   ],
   "source": [
    "# 中心化代码\n",
    "def Normalization_fun(x):\n",
    "    # 特征零均值\n",
    "    x = (x - np.mean(x, 0)) / (np.max(x, 0) - np.min(x, 0))\n",
    "    return x\n",
    "\n",
    "# 提取特征和标签\n",
    "X = data.iloc[:, 0:-1]  # N D\n",
    "X = Normalization_fun(X)\n",
    "Y = data.iloc[:, -1]\n",
    "print(\"前0-10列为特征,X:\",X.shape)\n",
    "print(\"最后一列为标签,Y:\",Y.shape)\n",
    "# 可视化中心化后的sulphates特征\n",
    "import matplotlib.pyplot as plt\n",
    "plt.rcParams['font.sans-serif'] = ['SimHei'] #显示中文\n",
    "plt.rcParams['axes.unicode_minus']=False #用来正常显示负号\n",
    "plt.hist(X[\"sulphates\"])\n",
    "plt.title(\"中心化\")\n",
    "plt.show()"
   ]
  },
  {
   "cell_type": "code",
   "execution_count": 3,
   "id": "2fed33ab",
   "metadata": {},
   "outputs": [
    {
     "data": {
      "text/html": [
       "<div>\n",
       "<style scoped>\n",
       "    .dataframe tbody tr th:only-of-type {\n",
       "        vertical-align: middle;\n",
       "    }\n",
       "\n",
       "    .dataframe tbody tr th {\n",
       "        vertical-align: top;\n",
       "    }\n",
       "\n",
       "    .dataframe thead th {\n",
       "        text-align: right;\n",
       "    }\n",
       "</style>\n",
       "<table border=\"1\" class=\"dataframe\">\n",
       "  <thead>\n",
       "    <tr style=\"text-align: right;\">\n",
       "      <th></th>\n",
       "      <th>x0</th>\n",
       "      <th>fixed acidity</th>\n",
       "      <th>volatile acidity</th>\n",
       "      <th>citric acid</th>\n",
       "      <th>residual sugar</th>\n",
       "      <th>chlorides</th>\n",
       "      <th>free sulfur dioxide</th>\n",
       "      <th>total sulfur dioxide</th>\n",
       "      <th>density</th>\n",
       "      <th>pH</th>\n",
       "      <th>sulphates</th>\n",
       "      <th>alcohol</th>\n",
       "    </tr>\n",
       "  </thead>\n",
       "  <tbody>\n",
       "    <tr>\n",
       "      <th>0</th>\n",
       "      <td>1.0</td>\n",
       "      <td>0.013963</td>\n",
       "      <td>-0.008080</td>\n",
       "      <td>0.015547</td>\n",
       "      <td>0.219457</td>\n",
       "      <td>-0.002292</td>\n",
       "      <td>0.033770</td>\n",
       "      <td>0.073409</td>\n",
       "      <td>0.134425</td>\n",
       "      <td>-0.171151</td>\n",
       "      <td>-0.046334</td>\n",
       "      <td>-0.276495</td>\n",
       "    </tr>\n",
       "    <tr>\n",
       "      <th>1</th>\n",
       "      <td>1.0</td>\n",
       "      <td>-0.053345</td>\n",
       "      <td>0.021332</td>\n",
       "      <td>0.003499</td>\n",
       "      <td>-0.073488</td>\n",
       "      <td>0.009578</td>\n",
       "      <td>-0.074244</td>\n",
       "      <td>-0.014758</td>\n",
       "      <td>-0.000528</td>\n",
       "      <td>0.101576</td>\n",
       "      <td>0.000178</td>\n",
       "      <td>-0.163591</td>\n",
       "    </tr>\n",
       "    <tr>\n",
       "      <th>2</th>\n",
       "      <td>1.0</td>\n",
       "      <td>0.119732</td>\n",
       "      <td>0.001724</td>\n",
       "      <td>0.039644</td>\n",
       "      <td>0.007800</td>\n",
       "      <td>0.012545</td>\n",
       "      <td>-0.018495</td>\n",
       "      <td>-0.095964</td>\n",
       "      <td>0.020679</td>\n",
       "      <td>0.065212</td>\n",
       "      <td>-0.057961</td>\n",
       "      <td>-0.066817</td>\n",
       "    </tr>\n",
       "    <tr>\n",
       "      <th>3</th>\n",
       "      <td>1.0</td>\n",
       "      <td>0.033193</td>\n",
       "      <td>-0.047295</td>\n",
       "      <td>-0.008549</td>\n",
       "      <td>0.032340</td>\n",
       "      <td>0.036284</td>\n",
       "      <td>0.040738</td>\n",
       "      <td>0.110532</td>\n",
       "      <td>0.030319</td>\n",
       "      <td>0.001576</td>\n",
       "      <td>-0.104473</td>\n",
       "      <td>-0.099075</td>\n",
       "    </tr>\n",
       "    <tr>\n",
       "      <th>4</th>\n",
       "      <td>1.0</td>\n",
       "      <td>0.033193</td>\n",
       "      <td>-0.047295</td>\n",
       "      <td>-0.008549</td>\n",
       "      <td>0.032340</td>\n",
       "      <td>0.036284</td>\n",
       "      <td>0.040738</td>\n",
       "      <td>0.110532</td>\n",
       "      <td>0.030319</td>\n",
       "      <td>0.001576</td>\n",
       "      <td>-0.104473</td>\n",
       "      <td>-0.099075</td>\n",
       "    </tr>\n",
       "    <tr>\n",
       "      <th>...</th>\n",
       "      <td>...</td>\n",
       "      <td>...</td>\n",
       "      <td>...</td>\n",
       "      <td>...</td>\n",
       "      <td>...</td>\n",
       "      <td>...</td>\n",
       "      <td>...</td>\n",
       "      <td>...</td>\n",
       "      <td>...</td>\n",
       "      <td>...</td>\n",
       "      <td>...</td>\n",
       "      <td>...</td>\n",
       "    </tr>\n",
       "    <tr>\n",
       "      <th>4893</th>\n",
       "      <td>1.0</td>\n",
       "      <td>-0.062960</td>\n",
       "      <td>-0.066903</td>\n",
       "      <td>-0.026621</td>\n",
       "      <td>-0.073488</td>\n",
       "      <td>-0.020096</td>\n",
       "      <td>-0.039401</td>\n",
       "      <td>-0.107565</td>\n",
       "      <td>-0.055666</td>\n",
       "      <td>0.074303</td>\n",
       "      <td>0.011806</td>\n",
       "      <td>0.110602</td>\n",
       "    </tr>\n",
       "    <tr>\n",
       "      <th>4894</th>\n",
       "      <td>1.0</td>\n",
       "      <td>-0.024499</td>\n",
       "      <td>0.040940</td>\n",
       "      <td>0.015547</td>\n",
       "      <td>0.024672</td>\n",
       "      <td>0.003643</td>\n",
       "      <td>0.075582</td>\n",
       "      <td>0.068769</td>\n",
       "      <td>0.016823</td>\n",
       "      <td>-0.034788</td>\n",
       "      <td>-0.034706</td>\n",
       "      <td>-0.147462</td>\n",
       "    </tr>\n",
       "    <tr>\n",
       "      <th>4895</th>\n",
       "      <td>1.0</td>\n",
       "      <td>-0.034114</td>\n",
       "      <td>-0.037491</td>\n",
       "      <td>-0.086862</td>\n",
       "      <td>-0.079623</td>\n",
       "      <td>-0.014161</td>\n",
       "      <td>-0.018495</td>\n",
       "      <td>-0.063482</td>\n",
       "      <td>-0.028675</td>\n",
       "      <td>-0.180242</td>\n",
       "      <td>-0.034706</td>\n",
       "      <td>-0.179720</td>\n",
       "    </tr>\n",
       "    <tr>\n",
       "      <th>4896</th>\n",
       "      <td>1.0</td>\n",
       "      <td>-0.130268</td>\n",
       "      <td>0.011528</td>\n",
       "      <td>-0.020597</td>\n",
       "      <td>-0.081157</td>\n",
       "      <td>-0.070541</td>\n",
       "      <td>-0.053338</td>\n",
       "      <td>-0.065802</td>\n",
       "      <td>-0.102899</td>\n",
       "      <td>0.137939</td>\n",
       "      <td>-0.127729</td>\n",
       "      <td>0.368667</td>\n",
       "    </tr>\n",
       "    <tr>\n",
       "      <th>4897</th>\n",
       "      <td>1.0</td>\n",
       "      <td>-0.082191</td>\n",
       "      <td>-0.066903</td>\n",
       "      <td>0.027595</td>\n",
       "      <td>-0.085758</td>\n",
       "      <td>-0.076476</td>\n",
       "      <td>-0.046370</td>\n",
       "      <td>-0.093644</td>\n",
       "      <td>-0.089018</td>\n",
       "      <td>0.065212</td>\n",
       "      <td>-0.197496</td>\n",
       "      <td>0.207376</td>\n",
       "    </tr>\n",
       "  </tbody>\n",
       "</table>\n",
       "<p>4898 rows × 12 columns</p>\n",
       "</div>"
      ],
      "text/plain": [
       "       x0  fixed acidity  volatile acidity  citric acid  residual sugar  \\\n",
       "0     1.0       0.013963         -0.008080     0.015547        0.219457   \n",
       "1     1.0      -0.053345          0.021332     0.003499       -0.073488   \n",
       "2     1.0       0.119732          0.001724     0.039644        0.007800   \n",
       "3     1.0       0.033193         -0.047295    -0.008549        0.032340   \n",
       "4     1.0       0.033193         -0.047295    -0.008549        0.032340   \n",
       "...   ...            ...               ...          ...             ...   \n",
       "4893  1.0      -0.062960         -0.066903    -0.026621       -0.073488   \n",
       "4894  1.0      -0.024499          0.040940     0.015547        0.024672   \n",
       "4895  1.0      -0.034114         -0.037491    -0.086862       -0.079623   \n",
       "4896  1.0      -0.130268          0.011528    -0.020597       -0.081157   \n",
       "4897  1.0      -0.082191         -0.066903     0.027595       -0.085758   \n",
       "\n",
       "      chlorides  free sulfur dioxide  total sulfur dioxide   density  \\\n",
       "0     -0.002292             0.033770              0.073409  0.134425   \n",
       "1      0.009578            -0.074244             -0.014758 -0.000528   \n",
       "2      0.012545            -0.018495             -0.095964  0.020679   \n",
       "3      0.036284             0.040738              0.110532  0.030319   \n",
       "4      0.036284             0.040738              0.110532  0.030319   \n",
       "...         ...                  ...                   ...       ...   \n",
       "4893  -0.020096            -0.039401             -0.107565 -0.055666   \n",
       "4894   0.003643             0.075582              0.068769  0.016823   \n",
       "4895  -0.014161            -0.018495             -0.063482 -0.028675   \n",
       "4896  -0.070541            -0.053338             -0.065802 -0.102899   \n",
       "4897  -0.076476            -0.046370             -0.093644 -0.089018   \n",
       "\n",
       "            pH  sulphates   alcohol  \n",
       "0    -0.171151  -0.046334 -0.276495  \n",
       "1     0.101576   0.000178 -0.163591  \n",
       "2     0.065212  -0.057961 -0.066817  \n",
       "3     0.001576  -0.104473 -0.099075  \n",
       "4     0.001576  -0.104473 -0.099075  \n",
       "...        ...        ...       ...  \n",
       "4893  0.074303   0.011806  0.110602  \n",
       "4894 -0.034788  -0.034706 -0.147462  \n",
       "4895 -0.180242  -0.034706 -0.179720  \n",
       "4896  0.137939  -0.127729  0.368667  \n",
       "4897  0.065212  -0.197496  0.207376  \n",
       "\n",
       "[4898 rows x 12 columns]"
      ]
     },
     "execution_count": 3,
     "metadata": {},
     "output_type": "execute_result"
    }
   ],
   "source": [
    "# 这里注意一个小trick：回归系数会比特征x多一维，为了向量相乘方便，可以在训练集X左侧添加全为1的一列\n",
    "data0 = pd.concat([pd.DataFrame(np.ones(X.shape[0]), columns=['x0']), X], axis=1)\n",
    "data0"
   ]
  },
  {
   "cell_type": "code",
   "execution_count": 4,
   "id": "91276444",
   "metadata": {},
   "outputs": [
    {
     "data": {
      "text/plain": [
       "(12, 1)"
      ]
     },
     "execution_count": 4,
     "metadata": {},
     "output_type": "execute_result"
    }
   ],
   "source": [
    "# 初始化回归系数\n",
    "W_init = np.random.randn(data0.shape[1], 1)\n",
    "W_init.shape"
   ]
  },
  {
   "cell_type": "markdown",
   "id": "41c1cb69",
   "metadata": {},
   "source": [
    "# 分层采样划分训练集和测试集"
   ]
  },
  {
   "cell_type": "code",
   "execution_count": 30,
   "id": "a0e11000",
   "metadata": {},
   "outputs": [
    {
     "name": "stdout",
     "output_type": "stream",
     "text": [
      "标签种类： {3, 4, 5, 6, 7, 8, 9}\n",
      "X: (3918, 12) (980, 12)\n",
      "y: (3918,) (980,)\n"
     ]
    }
   ],
   "source": [
    "#sklearn中分层采样\n",
    "from sklearn.model_selection import StratifiedShuffleSplit\n",
    "type=set(Y)\n",
    "print(\"标签种类：\",type)\n",
    "#设定4：1，划分训练集和测试集\n",
    "#总共循环1次\n",
    "data0=np.array(data0)#转个格式\n",
    "mysplit = StratifiedShuffleSplit(n_splits=1, test_size=0.2, random_state=0)\n",
    "for train_index, test_index in mysplit.split(data0, Y):\n",
    "    X_train, X_test = data0[train_index], data0[test_index]\n",
    "    y_train, y_test = Y[train_index], Y[test_index]\n",
    "    print(\"X:\",X_train.shape,X_test.shape)\n",
    "    print(\"y:\",y_train.shape,y_test.shape)"
   ]
  },
  {
   "cell_type": "markdown",
   "id": "496512ab",
   "metadata": {},
   "source": [
    "# 批量梯度下降（矩阵运算并行加速）"
   ]
  },
  {
   "cell_type": "markdown",
   "id": "c7b7d9d4",
   "metadata": {},
   "source": [
    "$$\\theta_{j}=\\theta_{j}+\\alpha \\frac{1}{m}(y-X \\theta)^{T} x_{j} $$"
   ]
  },
  {
   "cell_type": "markdown",
   "id": "81f113ff",
   "metadata": {},
   "source": [
    "$$\n",
    "\\Delta_{\\theta} \\operatorname{MSE}(\\theta) = \\left(\\begin{array}{c}\n",
    "\\frac{\\partial}{\\partial \\theta_{0}} \\operatorname{MSE}(\\theta) \\\\\n",
    "\\frac{\\partial}{\\partial \\theta_{1}} \\operatorname{MSE}(\\theta) \\\\\n",
    "\\vdots \\\\\n",
    "\\frac{\\partial}{\\partial \\theta_{\\mathrm{n}}} \\operatorname{MSE}(\\theta)\n",
    "\\end{array}\\right) = \\frac{1}{\\mathrm{~m}} \\mathbf{X}^{\\mathrm{T}}(\\mathbf{X} \\cdot \\theta-\\mathbf{y})\n",
    "$$"
   ]
  },
  {
   "cell_type": "markdown",
   "id": "9f63e51e",
   "metadata": {},
   "source": [
    "$$\\text { Loss }=\\frac{1}{N} \\sum_{i=1}^{N}\\left(y^{(i)}-f\\left(\\boldsymbol{x}^{(i)}, \\boldsymbol{\\theta}\\right)\\right)^{2}$$"
   ]
  },
  {
   "cell_type": "code",
   "execution_count": 196,
   "id": "e52fb92f",
   "metadata": {},
   "outputs": [
    {
     "name": "stdout",
     "output_type": "stream",
     "text": [
      "(12,)\n",
      "最终theta: [ 5.87895295 -0.17086267 -1.18216085  0.27663199  1.18786157 -0.13465647\n",
      " -0.06152687  0.28971208 -0.6294669   0.32547966  0.29943501  1.99610451]\n",
      "训练集MSE： 0.5930856762120191\n",
      "测试集MSE： 0.557303834173734\n"
     ]
    }
   ],
   "source": [
    "#定义均方差MSE\n",
    "def MSE(predict, true):\n",
    "    return 1/predict.shape[0]*np.sum((predict - true)**2)\n",
    "MSE_train=[]\n",
    "iteration_train=[]\n",
    "MSE_test=[]\n",
    "iteration_test=[]\n",
    "\n",
    "#批量梯度下降\n",
    "alpha = 0.1   # 学习率\n",
    "n_iterations = 1000 #迭代次数\n",
    "m = X_train.shape[0]\n",
    "theta=W_init.flatten()#theta为系数向量\n",
    "print(theta.shape)\n",
    "for iteration in range(n_iterations):\n",
    "    gradients = 1/m * X_train.T.dot(X_train.dot(theta) - y_train)#损失函数\n",
    "    theta = theta - alpha * gradients\n",
    "    if iteration<50:\n",
    "        #训练集的MSE\n",
    "        predict=X_train.dot(theta)\n",
    "        MSE_train.append(MSE(predict,y_train))\n",
    "        iteration_train.append(iteration)\n",
    "        #测试的MSE\n",
    "        test_predict=X_test.dot(theta)\n",
    "        MSE_test.append(MSE(test_predict,y_test))\n",
    "        iteration_test.append(iteration)\n",
    "print(\"最终theta:\",theta)\n",
    "print(\"训练集MSE：\",MSE(X_train.dot(theta),y_train))\n",
    "print(\"测试集MSE：\",MSE(X_test.dot(theta),y_test))"
   ]
  },
  {
   "cell_type": "markdown",
   "id": "104720bf",
   "metadata": {},
   "source": [
    "## 绘图MSE收敛曲线"
   ]
  },
  {
   "cell_type": "code",
   "execution_count": 197,
   "id": "2ff23728",
   "metadata": {},
   "outputs": [
    {
     "data": {
      "image/png": "[encoded data removed]",
      "text/plain": [
       "<Figure size 1000x300 with 2 Axes>"
      ]
     },
     "metadata": {
      "needs_background": "light"
     },
     "output_type": "display_data"
    }
   ],
   "source": [
    "from matplotlib import pyplot as plt\n",
    "#设置画布大小像素点\n",
    "plt.figure(figsize=(10,3),dpi=100)\n",
    "\n",
    "plt.subplot(1,2,1)\n",
    "plt.rc('font', family='SimHei', size=10)\n",
    "plt.plot(iteration_train,MSE_train,marker='o',markersize=3)\n",
    "plt.xlabel('iteration')\n",
    "plt.ylabel('MSE')\n",
    "plt.legend(['训练'])  # 设置折线名称\n",
    "plt.title('批量梯度下降')\n",
    "\n",
    "plt.subplot(1,2,2)\n",
    "plt.rc('font', family='SimHei', size=10)\n",
    "plt.plot(iteration_test,MSE_test,color='r',marker='o',markersize=3)\n",
    "plt.xlabel('iteration')\n",
    "plt.ylabel('MSE')\n",
    "plt.legend(['测试'])  # 设置折线名称\n",
    "plt.title('批量梯度下降')\n",
    "plt.show() "
   ]
  },
  {
   "cell_type": "markdown",
   "id": "774a441e",
   "metadata": {},
   "source": [
    "可以看出训练集和测试集，通过迭代次数的增加，其MSE均方误差的收敛趋势是一致的，模型应该是正确的。在迭代50次后，MSE趋近于极限。\n",
    "即：\n",
    "\n",
    "训练集MSE： 0.6124910958661429\n",
    "\n",
    "测试集MSE： 0.5768161696411216"
   ]
  },
  {
   "cell_type": "markdown",
   "id": "ea8e632a",
   "metadata": {},
   "source": [
    "## 探究最佳学习率（迭代1000次）"
   ]
  },
  {
   "cell_type": "code",
   "execution_count": 183,
   "id": "dfe40663",
   "metadata": {},
   "outputs": [
    {
     "name": "stdout",
     "output_type": "stream",
     "text": [
      "测试函数：0.557304 结果正确\n",
      "[0.6374682957886199, 0.5915468110045909, 0.557303834173734, 0.5482036275009625, 0.5490687852336439]\n"
     ]
    },
    {
     "data": {
      "image/png": "[encoded data removed]",
      "text/plain": [
       "<Figure size 500x300 with 1 Axes>"
      ]
     },
     "metadata": {
      "needs_background": "light"
     },
     "output_type": "display_data"
    }
   ],
   "source": [
    "def alpha_chooseBGD(alpha):\n",
    "    #alpha = 学习率\n",
    "    n_iterations = 1000\n",
    "    m = X_train.shape[0]\n",
    "    theta=W_init.flatten()#theta为系数向量\n",
    "    for iteration in range(n_iterations):\n",
    "        gradients = 1/m * X_train.T.dot(X_train.dot(theta) - y_train)#损失函数\n",
    "        theta = theta - alpha * gradients\n",
    "        #测试的MSE\n",
    "    test_predict=X_test.dot(theta)\n",
    "    return MSE(test_predict,y_test)\n",
    "print(\"测试函数：%f 结果正确\"%alpha_chooseBGD(0.1))\n",
    "\n",
    "#手动规定测试的学习率\n",
    "alpha_list=[0.01,0.03,0.1,0.3,1]\n",
    "score_MSE=[]\n",
    "for test in alpha_list:\n",
    "    score_MSE.append(alpha_chooseBGD(test))\n",
    "print(score_MSE)\n",
    "\n",
    "#绘图\n",
    "from matplotlib import pyplot as plt\n",
    "#设置画布大小像素点\n",
    "plt.figure(figsize=(5,3),dpi=100)\n",
    "plt.rc('font', family='SimHei', size=10)\n",
    "plt.plot(alpha_list,score_MSE,marker='o',markersize=4)\n",
    "plt.xlabel('alpha')\n",
    "plt.ylabel('MSE')\n",
    "plt.title('探究最佳学习率')\n",
    "plt.show() "
   ]
  },
  {
   "cell_type": "markdown",
   "id": "e0c1c5ad",
   "metadata": {},
   "source": [
    "可以看出，在人为设定$n\\_iterations = 1000$迭代1000次，当学习率取值为0.01,0.03,0.1,0.3,1时，$\\alpha=0.3$时，MSE（均方误差最小）"
   ]
  },
  {
   "cell_type": "markdown",
   "id": "2f0a50df",
   "metadata": {},
   "source": [
    "# 随机梯度下降"
   ]
  },
  {
   "cell_type": "markdown",
   "id": "5b4c106e",
   "metadata": {},
   "source": [
    "$$\n",
    "\\text{重复直到收敛 ( Repeat until convergence ):}\\\\\n",
    "\\text { for } i=1 \\text { to } m \\text { : }\\\\\n",
    "\\theta_{j} = \\theta_{j}+\\alpha\\left(y^{(i)}-h_{\\theta}\\left(x^{(i)}\\right)\\right) x_{j}^{(i)}\n",
    "$$"
   ]
  },
  {
   "cell_type": "code",
   "execution_count": 149,
   "id": "f54493d0",
   "metadata": {},
   "outputs": [],
   "source": [
    "MSE_train=[]\n",
    "iteration_train=[]\n",
    "MSE_test=[]\n",
    "iteration_test=[]\n",
    "\n",
    "#随机梯度下降\n",
    "alpha = 0.1   # 学习率\n",
    "n_iterations = 50\n",
    "theta=W_init.flatten()#theta为系数向量\n",
    "for iteration in range(n_iterations):\n",
    "    for i in range(X_train.shape[0]):\n",
    "        erro= X_train[i].dot(theta.T)-y_train[i:i+1]\n",
    "        for j in range(theta.shape[0]):\n",
    "            theta[j] = theta[j] - alpha*erro*X_train[i,j]\n",
    "    #print(theta)\n",
    "    #训练集的MSE\n",
    "    predict=X_train.dot(theta)\n",
    "    MSE_train.append(MSE(predict,y_train))\n",
    "    iteration_train.append(iteration)\n",
    "    #测试的MSE\n",
    "    test_predict=X_test.dot(theta)\n",
    "    MSE_test.append(MSE(test_predict,y_test))\n",
    "    iteration_test.append(iteration)"
   ]
  },
  {
   "cell_type": "markdown",
   "id": "5a0ed468",
   "metadata": {},
   "source": [
    "## 绘制MSE收敛曲线"
   ]
  },
  {
   "cell_type": "code",
   "execution_count": 185,
   "id": "e7d7823a",
   "metadata": {},
   "outputs": [
    {
     "data": {
      "image/png": "[encoded data removed]",
      "text/plain": [
       "<Figure size 1000x300 with 2 Axes>"
      ]
     },
     "metadata": {
      "needs_background": "light"
     },
     "output_type": "display_data"
    }
   ],
   "source": [
    "from matplotlib import pyplot as plt\n",
    "#设置画布大小像素点\n",
    "plt.figure(figsize=(10,3),dpi=100)\n",
    "\n",
    "plt.subplot(1,2,1)\n",
    "plt.rc('font', family='SimHei', size=10)\n",
    "plt.plot(iteration_train,MSE_train,marker='o',markersize=3)\n",
    "plt.xlabel('iteration')\n",
    "plt.ylabel('MSE')\n",
    "plt.legend(['训练'])  # 设置折线名称\n",
    "plt.title('随机梯度下降')\n",
    "\n",
    "plt.subplot(1,2,2)\n",
    "plt.rc('font', family='SimHei', size=10)\n",
    "plt.plot(iteration_test,MSE_test,color='r',marker='o',markersize=3)\n",
    "plt.xlabel('iteration')\n",
    "plt.ylabel('MSE')\n",
    "plt.legend(['测试'])  # 设置折线名称\n",
    "plt.title('随机梯度下降')\n",
    "plt.show() "
   ]
  },
  {
   "cell_type": "markdown",
   "id": "21f1f895",
   "metadata": {},
   "source": [
    "可以看出，随机梯度下降比批量随机下降更快的接近MSE的极限，符合理论实际"
   ]
  },
  {
   "cell_type": "markdown",
   "id": "219339de",
   "metadata": {},
   "source": [
    "## 探究最佳学习率（迭代50次）\n",
    "因为随机梯度下降可以更快的接近MSE的极限"
   ]
  },
  {
   "cell_type": "code",
   "execution_count": 195,
   "id": "54717ec5",
   "metadata": {},
   "outputs": [
    {
     "name": "stdout",
     "output_type": "stream",
     "text": [
      "测试函数：0.689789 结果正确\n",
      "[0.5494853884048913, 0.5491932323635575, 0.5521981227540994, 0.5626975901449294, 0.6897887805325553]\n"
     ]
    },
    {
     "data": {
      "image/png": "[encoded data removed]",
      "text/plain": [
       "<Figure size 500x300 with 1 Axes>"
      ]
     },
     "metadata": {
      "needs_background": "light"
     },
     "output_type": "display_data"
    }
   ],
   "source": [
    "def alpha_chooseSDG(alpha):\n",
    "    n_iterations = 50\n",
    "    theta=W_init.flatten()#theta为系数向量\n",
    "    for iteration in range(n_iterations):\n",
    "        for i in range(X_train.shape[0]):\n",
    "            erro= X_train[i].dot(theta.T)-y_train[i:i+1]\n",
    "            for j in range(theta.shape[0]):\n",
    "                theta[j] = theta[j] - alpha*erro*X_train[i,j]\n",
    "            \n",
    "    #测试的MSE\n",
    "    test_predict=X_test.dot(theta)\n",
    "    return MSE(test_predict,y_test)\n",
    "print(\"测试函数：%f 结果正确\"%alpha_chooseSDG(0.1))\n",
    "\n",
    "#手动规定测试的学习率\n",
    "alpha_list=[0.001,0.003,0.01,0.03,0.1]\n",
    "score_MSE=[]\n",
    "for test in alpha_list:\n",
    "    score_MSE.append(alpha_chooseSDG(test))\n",
    "print(score_MSE)\n",
    "\n",
    "#绘图\n",
    "from matplotlib import pyplot as plt\n",
    "#设置画布大小像素点\n",
    "plt.figure(figsize=(5,3),dpi=100)\n",
    "plt.rc('font', family='SimHei', size=10)\n",
    "plt.plot(alpha_list,score_MSE,marker='o',markersize=4)\n",
    "plt.xlabel('alpha')\n",
    "plt.ylabel('MSE')\n",
    "plt.title('探究最佳学习率')\n",
    "plt.show() "
   ]
  },
  {
   "cell_type": "markdown",
   "id": "3018221e",
   "metadata": {},
   "source": [
    "可以看出，在人为设定$n\\_iterations = 50$迭代50次，当学习率取值为0.001,0.003,0.01,0.03,0.1时，$\\alpha=0.03$时，MSE（均方误差最小）"
   ]
  },
  {
   "cell_type": "markdown",
   "id": "2c7a4b37",
   "metadata": {},
   "source": [
    "# 回归模型在机器学习和统计学上的差异"
   ]
  },
  {
   "cell_type": "markdown",
   "id": "a0ec5350",
   "metadata": {},
   "source": [
    "我认为机器学习和统计学的主要差异在于：**两者的目的不同，机器学习主要是用于预测，可能具有不可解释性；而统计学的主要目的为从数学的角度去求解变量之间的关系，极具逻辑性和解释性。**"
   ]
  },
  {
   "cell_type": "markdown",
   "id": "7c73b23a",
   "metadata": {},
   "source": [
    "以本次的回归模型为例：\n",
    "\n",
    "**机器学习：**不论使用批量梯度下降还是随机梯度下降，都需要对初始化后的数据进行训练集和测试集的划分。在训练集中通过定义损失函数(loss),从而进行 参数调整。而训练得到的模型究竟表现如何需要通过数据的另一个子集测试集测试之后才能知道。我们为了在测试集上取得的分数最高，不断炼丹，实际上是对最佳解的不断逼近。\n",
    "\n",
    "**统计学：**统计学的目的是为了解出输入X（向量）和输出（Y）之间的函数关系，例如，在本实验的过程中，统计学不需要划分训练集和测试集，而是需要通过建模，计算各个自变量和因变量之间的函数关系，主要研究的是通过矩阵运算得出的严谨的数学关系，而不是对测试集数据进行预测。其目的，是为了让建立的数学模型具有更高的准确性、鲁棒性。\n",
    "\n",
    "机器学习的目的是获得一个可反复预测的模型。我们通常不关心模型是否可以解释，机器学习只在乎结果。而统计建模更多的是为了寻找变量之间的关系和确定关系的显著性，恰巧迎合了预测。\n",
    "\n",
    "**但是两者依然存在共通的地方：**\n",
    "\n",
    "在实现岭回归模型时，我使用的为解析法，并非像传统的批量梯度下降和随机梯度下降需要每一步都计算损失函数(loss),再用其调整$w$参数，我们通过统计学确立的数学模型，直接求解出最佳$w$。（PS：虽然仍然需要放到测试集合上测试，但是深深地体现出了统计学知识。）"
   ]
  },
  {
   "cell_type": "markdown",
   "id": "c68268ed",
   "metadata": {},
   "source": [
    "# 岭回归（解析法）"
   ]
  },
  {
   "cell_type": "markdown",
   "id": "886beb2a",
   "metadata": {},
   "source": [
    "损失函数：岭回归模型的目标函数在线性模型的基础上加了$L2$范数的惩罚项："
   ]
  },
  {
   "cell_type": "markdown",
   "id": "c74ce450",
   "metadata": {},
   "source": [
    "\\begin{array}{c}\n",
    "\\text { Loss } = \\frac{1}{2 N} \\sum_{i = 1}^{N}\\left(y^{(i)}-f\\left(\\boldsymbol{x}^{(i)}, \\boldsymbol{\\theta}\\right)\\right)^{2}+\\lambda \\sum_{j = 0}^{N} \\theta_{j}^{2}\n",
    "\\end{array}"
   ]
  },
  {
   "cell_type": "markdown",
   "id": "8adc5001",
   "metadata": {},
   "source": [
    "对$\\theta$求偏导，当偏导数为$0$时，损失函数最小，所以岭回归的解为："
   ]
  },
  {
   "cell_type": "markdown",
   "id": "33dac31c",
   "metadata": {},
   "source": [
    "\\begin{align}\n",
    "\\text{ 岭回归求解 :}\\mathrm{w} & = (X^{T} X+\\underset{ }{\\lambda I)^{-1} X^{T} \\mathrm{y}}\\\\\n",
    "\\lambda & = \\text{岭系数}\\\\\n",
    "I&= \\text{单位矩阵}\\\\\n",
    "\\end{align}"
   ]
  },
  {
   "cell_type": "code",
   "execution_count": 43,
   "id": "c6db9fa7",
   "metadata": {},
   "outputs": [
    {
     "name": "stdout",
     "output_type": "stream",
     "text": [
      "岭回归系数： [ 5.87985018  0.50812708 -1.96449827 -0.16661463  4.42796223 -0.20025861\n",
      "  1.21785537 -0.28070175 -5.77549582  0.5687612   0.55937318  1.42589258]\n"
     ]
    }
   ],
   "source": [
    "#岭回归,岭系数=0.1\n",
    "def myRidge(X,y,lamda=0.1):\n",
    "    XTX=X.T.dot(X)\n",
    "    #np.eye()生成单位矩阵\n",
    "    I=np.eye(X.shape[1])\n",
    "    #括号内矩阵\n",
    "    bracket=XTX+lamda*I\n",
    "    #np.linalg.pinv()求伪逆\n",
    "    return np.linalg.pinv(bracket).dot(X.T).dot(y)\n",
    "\n",
    "#计算平均误差\n",
    "def avgerro(predict,y):\n",
    "    sum=0\n",
    "    for i in range (len(y)):\n",
    "        sum+=abs(predict[i]-y[i])\n",
    "    return sum/len(y)\n",
    "\n",
    "print(\"岭回归系数：\",myRidge(X_train,y_train))"
   ]
  },
  {
   "cell_type": "markdown",
   "id": "b1043583",
   "metadata": {},
   "source": [
    "## 模型评估"
   ]
  },
  {
   "cell_type": "code",
   "execution_count": 46,
   "id": "b5002115",
   "metadata": {},
   "outputs": [
    {
     "name": "stdout",
     "output_type": "stream",
     "text": [
      "岭回归训练平均误差： 0.5878184788835739\n",
      "岭回归测试平均误差： 0.5672847535302716\n"
     ]
    }
   ],
   "source": [
    "Ridge_theta=myRidge(X_train,y_train)\n",
    "#训练预测\n",
    "myRidge_train=X_train.dot(Ridge_theta)\n",
    "print(\"岭回归训练平均误差：\",avgerro(myRidge_train,y_train.tolist()))\n",
    "#测试预测\n",
    "myRidge_test=X_test.dot(Ridge_theta)\n",
    "print(\"岭回归测试平均误差：\",avgerro(myRidge_test,y_test.tolist()))"
   ]
  },
  {
   "cell_type": "code",
   "execution_count": null,
   "id": "4c18514c",
   "metadata": {},
   "outputs": [],
   "source": []
  }
 ],
 "metadata": {
  "kernelspec": {
   "display_name": "Python 3 (ipykernel)",
   "language": "python",
   "name": "python3"
  },
  "language_info": {
   "codemirror_mode": {
    "name": "ipython",
    "version": 3
   },
   "file_extension": ".py",
   "mimetype": "text/x-python",
   "name": "python",
   "nbconvert_exporter": "python",
   "pygments_lexer": "ipython3",
   "version": "3.8.10"
  }
 },
 "nbformat": 4,
 "nbformat_minor": 5
}
