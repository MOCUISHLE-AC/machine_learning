{
 "cells": [
  {
   "cell_type": "markdown",
   "id": "9eda572d",
   "metadata": {},
   "source": [
    "# 机器学习作业KNN"
   ]
  },
  {
   "cell_type": "markdown",
   "id": "ab123360",
   "metadata": {},
   "source": [
    "姓名：雷贺奥\n",
    "\n",
    "学号：2013551\n",
    "\n",
    "专业：计算机科学与技术"
   ]
  },
  {
   "cell_type": "markdown",
   "id": "4652a9b5",
   "metadata": {},
   "source": [
    "# 题目：基于KNN 的手写数字识别\n",
    "实验条件：给定semeion手写数字数据集，给定kNN分类算法\n",
    "实验要求：\n",
    "1. 基本要求：编程实现kNN算法；给出在不同k值（1，3，5）情况下，kNN算法对手写数字的识别精度（要求采用留一法）\n",
    "\n",
    "2. 中级要求：与weka机器学习包中的kNN分类结果进行对比\n",
    "\n",
    "3. 提高要求：将实验过程结果等图示展出"
   ]
  },
  {
   "cell_type": "markdown",
   "id": "e9e67272",
   "metadata": {},
   "source": [
    "# 数据预处理"
   ]
  },
  {
   "cell_type": "code",
   "execution_count": 15,
   "id": "05d2f7c3",
   "metadata": {
    "scrolled": true
   },
   "outputs": [
    {
     "name": "stdout",
     "output_type": "stream",
     "text": [
      "Counter({'0.0000': 132, '1.0000': 124, '0': 9, '1': 1})\n",
      "X_data:\n",
      "[[0. 0. 0. ... 0. 0. 0.]\n",
      " [0. 0. 0. ... 0. 0. 0.]\n",
      " [0. 0. 0. ... 0. 0. 0.]\n",
      " ...\n",
      " [0. 0. 1. ... 0. 0. 0.]\n",
      " [0. 1. 1. ... 0. 0. 0.]\n",
      " [0. 0. 0. ... 0. 0. 0.]]\n",
      "Y_data:\n",
      "[[1. 0. 0. ... 0. 0. 0.]\n",
      " [1. 0. 0. ... 0. 0. 0.]\n",
      " [1. 0. 0. ... 0. 0. 0.]\n",
      " ...\n",
      " [0. 0. 0. ... 0. 0. 1.]\n",
      " [0. 0. 0. ... 0. 0. 1.]\n",
      " [0. 0. 0. ... 0. 0. 1.]]\n"
     ]
    }
   ],
   "source": [
    "import pandas as pd\n",
    "import numpy as np\n",
    "from collections import Counter\n",
    "data=pd.read_csv(\"semeion.data\",header=None)\n",
    "data.shape#(1592,1)\n",
    "num=1593\n",
    "data=np.array(data)\n",
    "#去掉每一行末尾的空格和回车\n",
    "data[0][0] = data[0][0].rstrip(' \\n')\n",
    "#将一行数据以空格分开存入列表\n",
    "currentLine = data[0][0].split(' ')\n",
    "list_count= Counter(currentLine)\n",
    "print(list_count)\n",
    "X_data=np.zeros((num,256))\n",
    "Y_data=np.zeros((num,10))\n",
    "#将特征值存入特征矩阵\n",
    "X_data[0][:] = currentLine[:256]\n",
    "#将标签值存入标签矩阵\n",
    "Y_data[0][:] = currentLine[256:]\n",
    "for i in range(1,num):\n",
    "    #去掉每一行末尾的空格和回车\n",
    "    data[i][0] = data[i][0].rstrip(' \\n')\n",
    "    #将一行数据以空格分开存入列表\n",
    "    currentLine = data[i][0].split(' ')\n",
    "    #将特征值存入特征矩阵\n",
    "    X_data[i][:] = currentLine[:256]\n",
    "    #将标签值存入标签矩阵\n",
    "    Y_data[i][:] = currentLine[256:]\n",
    "\n",
    "print(\"X_data:\")\n",
    "print(X_data)\n",
    "print(\"Y_data:\")\n",
    "print(Y_data)"
   ]
  },
  {
   "cell_type": "markdown",
   "id": "65942b80",
   "metadata": {},
   "source": [
    "# 划分训练集和测试集"
   ]
  },
  {
   "cell_type": "code",
   "execution_count": 16,
   "id": "e421b8a9",
   "metadata": {},
   "outputs": [
    {
     "name": "stdout",
     "output_type": "stream",
     "text": [
      "(1194, 256) (1194,)\n",
      "(399, 256) (399,)\n",
      "<class 'numpy.ndarray'>\n"
     ]
    }
   ],
   "source": [
    "label=[]#标签，Y_data中下标\n",
    "#初始化\n",
    "for i in range(num):\n",
    "    label.append(0)\n",
    "for i in range(num):\n",
    "    for j in range(10):\n",
    "        if(Y_data[i][j]):\n",
    "            label[i]=j\n",
    "label=np.array(label)\n",
    "# 将X_data与label合并\n",
    "preprocess = np.hstack((X_data, label.reshape((num,1))))\n",
    "# 将二维数组写入 CSV \n",
    "np.savetxt( \"pre.csv\", preprocess, delimiter=\",\" )\n",
    "\n",
    "#导入sklearn库中的train_test_split函数，划分训练集和测试集\n",
    "from sklearn.model_selection import train_test_split  \n",
    "X_trainingSet, X_testSet, y_trainingSet, y_testSet = train_test_split(X_data, label, random_state=1) \n",
    "print(X_trainingSet.shape,y_trainingSet.shape)\n",
    "print(X_testSet.shape,y_testSet.shape)\n",
    "print(type(y_testSet))"
   ]
  },
  {
   "cell_type": "markdown",
   "id": "87772c29",
   "metadata": {},
   "source": [
    "# 使用sklearn-KNN标准库训练"
   ]
  },
  {
   "cell_type": "code",
   "execution_count": 17,
   "id": "55c8b1fd",
   "metadata": {},
   "outputs": [
    {
     "name": "stdout",
     "output_type": "stream",
     "text": [
      "KNN标准库并且使用split划分的正确率为： 0.87468671679198\n"
     ]
    }
   ],
   "source": [
    "from sklearn.neighbors import KNeighborsClassifier \n",
    "KNN_standard = KNeighborsClassifier(algorithm='kd_tree')\n",
    "KNN_standard.fit(X_trainingSet,y_trainingSet)\n",
    "predict_standard=KNN_standard.predict(X_testSet)\n",
    "from sklearn.metrics import accuracy_score  \n",
    "print(\"KNN标准库并且使用split划分的正确率为：\",accuracy_score(y_testSet, predict_standard))"
   ]
  },
  {
   "cell_type": "markdown",
   "id": "11aa4b30",
   "metadata": {},
   "source": [
    "# 模型评价（留一法划分)"
   ]
  },
  {
   "cell_type": "code",
   "execution_count": 18,
   "id": "42d2cb3d",
   "metadata": {},
   "outputs": [
    {
     "name": "stdout",
     "output_type": "stream",
     "text": [
      "[1, 3, 5, 7]\n",
      "[0.9171374764595104, 0.903954802259887, 0.9052102950408035, 0.9096045197740112]\n"
     ]
    },
    {
     "data": {
      "image/png": "[encoded data removed]",
      "text/plain": [
       "<Figure size 432x288 with 1 Axes>"
      ]
     },
     "metadata": {
      "needs_background": "light"
     },
     "output_type": "display_data"
    }
   ],
   "source": [
    "score=[]#精确度\n",
    "K=[]#距离定义\n",
    "import matplotlib.pyplot as plt\n",
    "\n",
    "#留一法划分\n",
    "for i in range(1,9,2):\n",
    "    correct = 0\n",
    "    temp= KNeighborsClassifier(i)\n",
    "    for test in range(num):\n",
    "        train_ix=np.delete(X_data,test,axis=0)\n",
    "        train_iy=np.delete(label,test,axis=0)\n",
    "        temp.fit(train_ix,train_iy)\n",
    "        p=[X_data[test]]\n",
    "        y_sample = temp.predict(p)\n",
    "        if y_sample == label[test]:          \n",
    "            correct += 1\n",
    "    score.append(correct/num)\n",
    "    K.append(i)\n",
    "print(K)\n",
    "print(score)\n",
    "plt.rc('font', family='SimHei', size=13)\n",
    "plt.plot(K,score,marker='o',markersize=8)\n",
    "plt.xlabel('K')\n",
    "plt.ylabel('ACCURACY')\n",
    "plt.title('留一法划分')\n",
    "plt.show()        "
   ]
  },
  {
   "cell_type": "markdown",
   "id": "55a2f6f0",
   "metadata": {},
   "source": [
    "# weka-KNN标准库训练"
   ]
  },
  {
   "cell_type": "markdown",
   "id": "77c30f57",
   "metadata": {},
   "source": [
    "在处理好数据后，即前文中保存的pre.csv,直接另存为pre.arff,随后导入weka软件包即可，由于使用的为留一法,\n",
    "设置cross validation Flods=num即可。"
   ]
  },
  {
   "cell_type": "markdown",
   "id": "a39a9571",
   "metadata": {},
   "source": [
    "# K=1,Accuracy=89.29%"
   ]
  },
  {
   "cell_type": "code",
   "execution_count": 12,
   "id": "e346b28b",
   "metadata": {},
   "outputs": [
    {
     "data": {
      "text/html": [
       "<img src=\"./k1.png\", width=640, heigth=480>\n"
      ],
      "text/plain": [
       "<IPython.core.display.HTML object>"
      ]
     },
     "metadata": {},
     "output_type": "display_data"
    }
   ],
   "source": [
    "%%HTML\n",
    "<img src=\"./k1.png\", width=640, heigth=480>"
   ]
  },
  {
   "cell_type": "markdown",
   "id": "1972e1cc",
   "metadata": {},
   "source": [
    "# K=3,Accuracy=90.80%"
   ]
  },
  {
   "cell_type": "code",
   "execution_count": 13,
   "id": "fb98d29a",
   "metadata": {},
   "outputs": [
    {
     "data": {
      "text/html": [
       "<img src=\"./k3.png\", width=640, heigth=480>\n"
      ],
      "text/plain": [
       "<IPython.core.display.HTML object>"
      ]
     },
     "metadata": {},
     "output_type": "display_data"
    }
   ],
   "source": [
    "%%HTML\n",
    "<img src=\"./k3.png\", width=640, heigth=480>"
   ]
  },
  {
   "cell_type": "markdown",
   "id": "85c4f1ab",
   "metadata": {},
   "source": [
    "# K=5,Accuracy=90.71%"
   ]
  },
  {
   "cell_type": "code",
   "execution_count": 14,
   "id": "eebd691a",
   "metadata": {},
   "outputs": [
    {
     "data": {
      "text/html": [
       "<img src=\"./k5.png\", width=640, heigth=480>\n"
      ],
      "text/plain": [
       "<IPython.core.display.HTML object>"
      ]
     },
     "metadata": {},
     "output_type": "display_data"
    }
   ],
   "source": [
    "%%HTML\n",
    "<img src=\"./k5.png\", width=640, heigth=480>"
   ]
  },
  {
   "cell_type": "markdown",
   "id": "f4e59646",
   "metadata": {},
   "source": [
    "# myKNN函数定义"
   ]
  },
  {
   "cell_type": "code",
   "execution_count": 19,
   "id": "8508d9c6",
   "metadata": {},
   "outputs": [
    {
     "name": "stdout",
     "output_type": "stream",
     "text": [
      "test，应该为0，实际为： 0\n"
     ]
    }
   ],
   "source": [
    "#欧氏距离\n",
    "import math\n",
    "def distance_o(array1,array2,size):\n",
    "    sum=0;\n",
    "    for i in range(size):\n",
    "        sum=(array1[i]-array2[i])*(array1[i]-array2[i])+sum\n",
    "    return math.sqrt(sum)\n",
    "#KNN\n",
    "def myKNN(k,X_train,label_train,X_predict1):#X_predict为单个预测数据\n",
    "    arrive=[]\n",
    "    distance=[]#二维,（距离，标签）\n",
    "    firstK=[]\n",
    "    #前k个欧式距离\n",
    "    for index in range(label_train.size):\n",
    "        distance.append([])\n",
    "        distance[index].append(distance_o(X_train[index],X_predict1,256))\n",
    "        distance[index].append(label[index])\n",
    "    #选择排序，便于记录下标\n",
    "    for i in range(k):\n",
    "        min=[0,0]\n",
    "        min[0]=distance[i][0]\n",
    "        min[1]=distance[i][1]\n",
    "        position=i\n",
    "        for j in range(i,label_train.size):\n",
    "            if min[0]>distance[j][0]:\n",
    "                min[0]=distance[j][0]\n",
    "                min[1]=distance[j][1]\n",
    "                position=j\n",
    "        #swap\n",
    "        distance[position][0]=distance[i][0]\n",
    "        distance[position][1]=distance[i][1]\n",
    "        distance[i][0]=min[0]\n",
    "        distance[i][1]=min[1]\n",
    "        arrive.append(min[1])\n",
    "        firstK.append(min[0])\n",
    "        \n",
    "    #输出arrive中出现最多的数据\n",
    "    maxlabel=max(arrive,key=arrive.count)\n",
    "    return maxlabel\n",
    "\n",
    "print(\"test，应该为0，实际为：\",myKNN(10,X_data,label,X_data[0]))"
   ]
  },
  {
   "cell_type": "markdown",
   "id": "c11a9360",
   "metadata": {},
   "source": [
    "# myKNN模型评价（留一法）"
   ]
  },
  {
   "cell_type": "code",
   "execution_count": 20,
   "id": "0e2bf89e",
   "metadata": {},
   "outputs": [
    {
     "name": "stdout",
     "output_type": "stream",
     "text": [
      "0.9020715630885122 1\n",
      "0.9146264908976773 3\n",
      "0.9121155053358443 5\n",
      "0.9215317011927181 7\n",
      "[1, 3, 5, 7]\n",
      "[0.9020715630885122, 0.9146264908976773, 0.9121155053358443, 0.9215317011927181]\n"
     ]
    },
    {
     "data": {
      "image/png": "[encoded data removed]",
      "text/plain": [
       "<Figure size 432x288 with 1 Axes>"
      ]
     },
     "metadata": {
      "needs_background": "light"
     },
     "output_type": "display_data"
    }
   ],
   "source": [
    "#留一法划分\n",
    "score1=[]#精确度\n",
    "K1=[]#距离定义\n",
    "import matplotlib.pyplot as plt\n",
    "for i in range(1,9,2):\n",
    "    correct = 0\n",
    "    #test为需要预测的数据，train中去除\n",
    "    for test in range(num):\n",
    "        train_ix=np.delete(X_data,test,axis=0)\n",
    "        train_iy=np.delete(label,test,axis=0)\n",
    "        y_sample=myKNN(i,train_ix,train_iy,X_data[test])\n",
    "        if y_sample == label[test]:          \n",
    "            correct += 1\n",
    "    score1.append(correct/num)\n",
    "    K1.append(i)\n",
    "    print(correct/num,i)\n",
    "print(K1)\n",
    "print(score1)\n",
    "plt.rc('font', family='SimHei', size=13)\n",
    "plt.plot(K1,score1,marker='o',markersize=8)\n",
    "plt.xlabel('K')\n",
    "plt.ylabel('ACCURACY')\n",
    "plt.title('myKNN留一法划分')\n",
    "plt.show()        "
   ]
  },
  {
   "cell_type": "markdown",
   "id": "c520f3e3",
   "metadata": {},
   "source": [
    "# myKNN和标准库中KNN的比较"
   ]
  },
  {
   "cell_type": "markdown",
   "id": "6a0a3086",
   "metadata": {},
   "source": [
    "如图所示："
   ]
  },
  {
   "cell_type": "code",
   "execution_count": 22,
   "id": "a96c7532",
   "metadata": {},
   "outputs": [
    {
     "data": {
      "image/png": "[encoded data removed]",
      "text/plain": [
       "<Figure size 432x288 with 1 Axes>"
      ]
     },
     "metadata": {
      "needs_background": "light"
     },
     "output_type": "display_data"
    }
   ],
   "source": [
    "#经过weka软件包可以得出\n",
    "weka=[0.8929,0.908,0.9071,0.9106]\n",
    "plt.plot(K1,score1,marker='o',markersize=8)\n",
    "plt.plot(K,score,marker='o',markersize=8)\n",
    "plt.plot(K,weka,marker='o',markersize=8)\n",
    "plt.title('myKNN和标准库比较')\n",
    "plt.legend(['myKNN', 'sklearn','weka'])  # 设置折线名称\n",
    "plt.show()"
   ]
  }
 ],
 "metadata": {
  "kernelspec": {
   "display_name": "Python 3 (ipykernel)",
   "language": "python",
   "name": "python3"
  },
  "language_info": {
   "codemirror_mode": {
    "name": "ipython",
    "version": 3
   },
   "file_extension": ".py",
   "mimetype": "text/x-python",
   "name": "python",
   "nbconvert_exporter": "python",
   "pygments_lexer": "ipython3",
   "version": "3.8.10"
  }
 },
 "nbformat": 4,
 "nbformat_minor": 5
}
